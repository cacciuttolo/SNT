{
 "cells": [
  {
   "cell_type": "markdown",
   "metadata": {},
   "source": [
    "## PYTHON - INSTRUCTIONS CONDITIONNELLES ![icone python](https://upload.wikimedia.org/wikipedia/commons/0/0a/Python.svg)"
   ]
  },
  {
   "cell_type": "markdown",
   "metadata": {},
   "source": [
    "#  Comment travailler avec un notebook Jupiter (ce document) ?\n",
    "Un notebook jupyter est composé de cellules : \n",
    "- certaines sont des cellules de texte (comme celle-ci, par exemple)\n",
    "- d'autres sont des cellules de code, où on écrit du langage python : on les reconnaît car il est écrit *Entrée [ ]* devant.\n",
    "\n",
    "\n",
    "On peut écrire dans chacune d'elle. Pour valider une cellule (**indispensable pour exécuter un programme python**), on peut soit utiliser le raccourci clavier Ctrl+Entrée, soit cliquer sur le bouton Exécuter. On peut exécuter plusieurs fois la cellule, si on a corrigé ou modifié un programme par exemple.\n",
    "\n",
    "\n",
    "**remarque :** dans un programme python, on peut utiliser le symbole # devant une ligne : cette ligne devient alors un commentaire, elle n'est pas exécutée par Python. \n",
    "\n",
    "\n",
    "Une fois le travail terminé, vous allez le télécharger pour ensuite l'envoyer au professeur.\n",
    "Pour cela, allez dans Fichier, Télécharger au format, puis HTML (.html)\n",
    "\n",
    "Le document téléchargé sera lisible par un navigateur internet, mais ne pourra pas être modifié."
   ]
  },
  {
   "cell_type": "markdown",
   "metadata": {},
   "source": [
    "# instruction conditionnelle si... alors ... sinon\n",
    "Une instruction conditionnelle est une instruction qui dépend d’une condition. Certaines parties du code sont exécutées ou ignorées selon que la condition est vérifiée ou non.\n",
    "On l'écrit ainsi : \n",
    "- *if* est suivi de la condition, puis de deux points\n",
    "- on écrit en dessous (avec une indentation) les instructions à faire si la condition est vérifiée\n",
    "- on écrit ensuite (ce n'est pas obligatoire) *else* suivi de deux points \n",
    "- puis en dessous les instructions (avec une indentation) à faire si la condition n'est pas vérifiée.\n",
    "\n",
    "On peut bien sûr écrire une ou des instructions conditionnelles dans une fonction.\n",
    "\n",
    "Voici les symboles de comparaison pour la condition\n",
    "- $==$ : teste si deux valeurs sont égales.\n",
    "- $!=$ : teste si deux valeurs sont différentes.\n",
    "- $>$  : teste si la première valeur est strictement supérieure à la deuxième.\n",
    "- $>=$ : teste si la première valeur est supérieure ou égale à la deuxième.\n",
    "- $<$  : teste si la première valeur est strictement inférieure à la deuxième.\n",
    "- $<=$ : teste si la première valeur est inférieure ou égale à la deuxième.\n",
    "\n",
    "\n",
    "**remarque** : on peut écrire plusieurs conditions en écrivant *or* ou *and* entre chacune, selon ce que l'on veut..\n",
    "\n",
    "**exemple :** Lors de la saisie d'un formulaire internet, on veut s'assurer que l'adresse mail donnée est correcte.\n",
    "Étudie le programme ci-dessous, essaie de comprendre comment il fonctionne en lançant plusieurs fois la fonction verif_mail."
   ]
  },
  {
   "cell_type": "code",
   "execution_count": 1,
   "metadata": {},
   "outputs": [],
   "source": [
    "def verif_mail(adresse):\n",
    "    if \"@\" in adresse:\n",
    "        return (True)\n",
    "    else:\n",
    "        return (False)"
   ]
  },
  {
   "cell_type": "code",
   "execution_count": 3,
   "metadata": {},
   "outputs": [
    {
     "data": {
      "text/plain": [
       "True"
      ]
     },
     "execution_count": 3,
     "metadata": {},
     "output_type": "execute_result"
    }
   ],
   "source": [
    "verif_mail(\"toto@ac-nice.fr\")"
   ]
  },
  {
   "cell_type": "code",
   "execution_count": 4,
   "metadata": {},
   "outputs": [
    {
     "data": {
      "text/plain": [
       "False"
      ]
     },
     "execution_count": 4,
     "metadata": {},
     "output_type": "execute_result"
    }
   ],
   "source": [
    "verif_mail(\"bobchezgmail.com\")"
   ]
  },
  {
   "cell_type": "markdown",
   "metadata": {},
   "source": [
    "# exerice 1\n",
    "Dans ce même formulaire, on veut aussi vérifier si l'année de naissance n'est pas incorrecte : on doit détecter si l'année est inférieure à 1900 ou supérieure à 2020.\n",
    "Écris une fonction verif_annee(annee_naissance) qui renvoie *True* si l'année de naissance est dans l'intervalle [1900;2020] et renvoie *False* sinon.\n"
   ]
  },
  {
   "cell_type": "code",
   "execution_count": 1,
   "metadata": {},
   "outputs": [],
   "source": [
    "#écris la fonction verif_annee(annee_naissance) dans cette cellule.\n",
    "def verif_annee(annee_naissance):\n",
    "    if annee_naissance>=1900 and annee_naissance<=2020:\n",
    "        return(True)\n",
    "    else:\n",
    "        return(False)"
   ]
  },
  {
   "cell_type": "code",
   "execution_count": 2,
   "metadata": {},
   "outputs": [
    {
     "data": {
      "text/plain": [
       "True"
      ]
     },
     "execution_count": 2,
     "metadata": {},
     "output_type": "execute_result"
    }
   ],
   "source": [
    "#utilise cette cellule pour faire tester la fonction écrite.\n",
    "verif_annee(1900)"
   ]
  },
  {
   "cell_type": "code",
   "execution_count": 3,
   "metadata": {},
   "outputs": [
    {
     "data": {
      "text/plain": [
       "False"
      ]
     },
     "execution_count": 3,
     "metadata": {},
     "output_type": "execute_result"
    }
   ],
   "source": [
    "verif_annee(1888)"
   ]
  },
  {
   "cell_type": "code",
   "execution_count": 4,
   "metadata": {},
   "outputs": [
    {
     "data": {
      "text/plain": [
       "True"
      ]
     },
     "execution_count": 4,
     "metadata": {},
     "output_type": "execute_result"
    }
   ],
   "source": [
    "verif_annee(2019)"
   ]
  },
  {
   "cell_type": "code",
   "execution_count": 5,
   "metadata": {},
   "outputs": [
    {
     "data": {
      "text/plain": [
       "True"
      ]
     },
     "execution_count": 5,
     "metadata": {},
     "output_type": "execute_result"
    }
   ],
   "source": [
    "verif_annee(2020)"
   ]
  },
  {
   "cell_type": "code",
   "execution_count": 6,
   "metadata": {},
   "outputs": [
    {
     "data": {
      "text/plain": [
       "False"
      ]
     },
     "execution_count": 6,
     "metadata": {},
     "output_type": "execute_result"
    }
   ],
   "source": [
    "verif_annee(2030)"
   ]
  },
  {
   "cell_type": "markdown",
   "metadata": {},
   "source": [
    "**remarque** : il est important de tester touts les cas de figure."
   ]
  },
  {
   "cell_type": "markdown",
   "metadata": {},
   "source": [
    "# exerice 2\n",
    "Un programme est chargé d'affecter la mention au baccalauréat.\n",
    "\n",
    "\n",
    "Écris une fonction mention_bac ayant pour paramètre note et qui affiche en retour : \"refusé\" si la note est strictement inférieure à 8, \"passe l'oral du second groupe\" si la note est supérieure ou égale à 8 et strictement inférieure à 10, \"admis\" si la note supérieure ou égale à 10 et strictement inférieure à 12,\"admis mention Assez Bien\" si la note supérieure ou égale à 12 et strictement inférieure à 14, \"admis mention Bien\" si la note supérieure ou égale à 14 et strictement inférieure à 16, \"admis mention Très Bien \" si la note supérieure ou égale à 16.\n"
   ]
  },
  {
   "cell_type": "code",
   "execution_count": 7,
   "metadata": {},
   "outputs": [],
   "source": [
    "#écris la fonction mention_bac(note) dans cette cellule.\n",
    "def mention_bac(note):\n",
    "    if note<8:\n",
    "        print(\"refusé\")\n",
    "    if note>=8 and note<10:\n",
    "        print(\"passe l'oral du second groupe\")\n",
    "    if note>=10 and note<12:\n",
    "        print(\"admis\")\n",
    "    if note>=12 and note<14:\n",
    "        print(\"admis mention Assez Bien\")\n",
    "    if note>=14 and note<16:\n",
    "        print(\"admis mention Bien\")\n",
    "    if note>16:\n",
    "        print(\"admis mention Très Bien\")"
   ]
  },
  {
   "cell_type": "code",
   "execution_count": 8,
   "metadata": {},
   "outputs": [
    {
     "name": "stdout",
     "output_type": "stream",
     "text": [
      "admis mention Assez Bien\n"
     ]
    }
   ],
   "source": [
    "#utilise cette cellule pour faire tester la fonction écrite.\n",
    "mention_bac(13)\n",
    "#il faut tester tous les cas de figure, même les cas loufoques comme des notes négatives..."
   ]
  },
  {
   "cell_type": "markdown",
   "metadata": {},
   "source": [
    "**remarque** : chaque test \"coûte\" du temps à la machine, on peut faire moins de tests en imbriquant des \"si alors sinon\" :  "
   ]
  },
  {
   "cell_type": "code",
   "execution_count": 12,
   "metadata": {},
   "outputs": [],
   "source": [
    "def mention_bac2(note):\n",
    "    if note<8:\n",
    "        print(\"refusé\")\n",
    "    else :\n",
    "        if note<10:\n",
    "            print(\"passe l'oral du second groupe\")\n",
    "        else : \n",
    "            if note<12:\n",
    "                print(\"admis\")\n",
    "            else:\n",
    "                if note<14:\n",
    "                    print(\"admis mention Assez Bien\")\n",
    "                else:\n",
    "                    if note<16:\n",
    "                        print(\"admis mention Bien\")\n",
    "                    else:\n",
    "                        print(\"admis mention Très Bien\")"
   ]
  },
  {
   "cell_type": "code",
   "execution_count": 13,
   "metadata": {},
   "outputs": [
    {
     "name": "stdout",
     "output_type": "stream",
     "text": [
      "admis mention Bien\n"
     ]
    }
   ],
   "source": [
    " mention_bac2(15)"
   ]
  },
  {
   "cell_type": "markdown",
   "metadata": {},
   "source": [
    "# exercice 3\n",
    "Même consigne que l'exerice 2, mais la fonction doit aussi afficher \"Ce n'est pas possible\" si la note est strictement inférieure à 0 ou strictement supérieure à 20."
   ]
  },
  {
   "cell_type": "code",
   "execution_count": 14,
   "metadata": {},
   "outputs": [],
   "source": [
    "#écris la fonction mention_bac2(note) dans cette cellule.\n",
    "def mention_bac(note):\n",
    "    if note<0 or note>20:\n",
    "        print(\"Ce n'est pas possible\")\n",
    "    if note>=0 and note<8:\n",
    "        print(\"refusé\")\n",
    "    if note>=8 and note<10:\n",
    "        print(\"passe l'oral du second groupe\")\n",
    "    if note>=10 and note<12:\n",
    "        print(\"admis\")\n",
    "    if note>=12 and note<14:\n",
    "        print(\"admis mention Assez Bien\")\n",
    "    if note>=14 and note<16:\n",
    "        print(\"admis mention Bien\")\n",
    "    if note>16 and note <=20:\n",
    "        print(\"admis mention Très Bien\")"
   ]
  },
  {
   "cell_type": "code",
   "execution_count": 15,
   "metadata": {},
   "outputs": [
    {
     "name": "stdout",
     "output_type": "stream",
     "text": [
      "Ce n'est pas possible\n"
     ]
    }
   ],
   "source": [
    "#utilise cette cellule pour faire tester la fonction écrite.\n",
    "mention_bac(-5)"
   ]
  },
  {
   "cell_type": "markdown",
   "metadata": {},
   "source": [
    "# exerice 4\n",
    "Je veux créer un code permettant d'accéder à des pages particulères d'un site internet. Mais je ne veux pas que tout le monde ait le même code...\n",
    "Je décide donc de procéder ainsi : pour qu'un code soit valable, ce doit être un nombre à 5 chiffres et le cinquième chiffre doit être le reste de la division de la somme des quatre premiers chiffres par 10.\n",
    "\n",
    "*exemple :* considérons le code 2547x. Pour trouver le dernier chiffre x, je dois faire la somme des quatre premiers : 2+5+4+7=18, puis calculer le reste de la division euclidienne de 18 par 10 : c'est 8 car 18=1x10+8\n",
    "donc x=8.\n",
    "\n",
    "Écris la fonction dernier_chiffre(c1,c2,c3,c4) qui calcule le cinquième chiffre quand on donne les quatre premiers.\n",
    "Par exemple, dernier_chiffre(2547) doit renvoyer 8.\n",
    "\n",
    "**rappel** pour calculer le reste de la division euclidienne de 18 par 10 en python, on écrit 18%10.\n"
   ]
  },
  {
   "cell_type": "code",
   "execution_count": null,
   "metadata": {},
   "outputs": [],
   "source": [
    "#écris la fonction dernier_chiffre(c1,c2,c3,c4) dans cette cellule.\n",
    "def dernier_chiffre(c1,c2,c3,c4):\n",
    "    return((c1+c2+c3+c4)%10)"
   ]
  },
  {
   "cell_type": "code",
   "execution_count": 20,
   "metadata": {},
   "outputs": [
    {
     "data": {
      "text/plain": [
       "0"
      ]
     },
     "execution_count": 20,
     "metadata": {},
     "output_type": "execute_result"
    }
   ],
   "source": [
    "#utilise cette cellule pour faire tester la fonction écrite.\n",
    "dernier_chiffre(4,5,8,3)"
   ]
  },
  {
   "cell_type": "markdown",
   "metadata": {},
   "source": [
    "*remarque : On utilise très souvent un tel système **de clé** dans les codes un peu long afin de vérifier s'il n'y a pas eu d'erreur de saisie. C'est le cas par exemple du numéro d'INSEE (souvent appelé code de sécurité sociale).*\n",
    "\n",
    "*C'est un code à 15 chiffres, comme par exemple : 2 55 08 14 168 025 38\n",
    "Ce code renseigne sur le sexe de la personne(2 : sexe féminin), l'année et le mois de naissance (1955, août), le lieu de naissance (14 département du Calvados), etc. \n",
    "Mais les deux derniers chiffres ne donnent pas d'information sur la personne, on les appelle **la clé** : ils permettent de vérifier s'il n'y a pas eu d'erreur de saisie.\n",
    "Cette clé doit être égàle à 97 moins le reste de la division euclidienne du nombre formé par les 13 premiers chiffres (ici 2550814168025) par 97.\n",
    "Vérifions :* "
   ]
  },
  {
   "cell_type": "code",
   "execution_count": 10,
   "metadata": {
    "scrolled": true
   },
   "outputs": [
    {
     "data": {
      "text/plain": [
       "38"
      ]
     },
     "execution_count": 10,
     "metadata": {},
     "output_type": "execute_result"
    }
   ],
   "source": [
    "97-2550814168025%97"
   ]
  },
  {
   "cell_type": "markdown",
   "metadata": {},
   "source": [
    "# défi**\n",
    "On reprend le code de l'exercice 4. \n",
    "\n",
    "Écris une fonction verif_code(code) qui renvoie *True* si le code est valide et *False* sinon\n",
    "\n",
    "Par exemple, verif_code(12340) doit renvoyer *True* car 1+2+3+4=10 et que le reste de la division de 10 par 10 est 0, mais verifcode(01234) doit renvoyer *False* car 0+1+2+3=6 et le reste de la division de 6 par 10 est 6 et non 10. \n",
    "\n",
    "**indication** : Cette fonction n'est pas facile à construire... Mais elle ne nécessite que deux opérateurs : \"%\" pour calculer le reste de la division euclidienne d'un nombre par un autre, et \"//\" qui permet de calculer le quotient de la division euclidienne d'un nombre par un autre."
   ]
  },
  {
   "cell_type": "code",
   "execution_count": 24,
   "metadata": {},
   "outputs": [],
   "source": [
    "def verif_code(code):\n",
    "    c5=code%10\n",
    "    code=code//10\n",
    "    c4=code%10\n",
    "    code=code//10\n",
    "    c3=code%10\n",
    "    code=code//10\n",
    "    c2=code%10\n",
    "    code=code//10\n",
    "    c1=code%10\n",
    "    code=code//10\n",
    "    if (c1+c2+c3+c4)%10==c5:\n",
    "        return (True)\n",
    "    else:\n",
    "        return(False)"
   ]
  },
  {
   "cell_type": "code",
   "execution_count": 21,
   "metadata": {},
   "outputs": [
    {
     "data": {
      "text/plain": [
       "True"
      ]
     },
     "execution_count": 21,
     "metadata": {},
     "output_type": "execute_result"
    }
   ],
   "source": [
    "verif_code(12340)"
   ]
  },
  {
   "cell_type": "code",
   "execution_count": 22,
   "metadata": {},
   "outputs": [
    {
     "data": {
      "text/plain": [
       "False"
      ]
     },
     "execution_count": 22,
     "metadata": {},
     "output_type": "execute_result"
    }
   ],
   "source": [
    "verif_code(91824)"
   ]
  },
  {
   "cell_type": "code",
   "execution_count": 23,
   "metadata": {},
   "outputs": [
    {
     "data": {
      "text/plain": [
       "True"
      ]
     },
     "execution_count": 23,
     "metadata": {},
     "output_type": "execute_result"
    }
   ],
   "source": [
    "verif_code(24826)"
   ]
  }
 ],
 "metadata": {
  "kernelspec": {
   "display_name": "Python 3",
   "language": "python",
   "name": "python3"
  },
  "language_info": {
   "codemirror_mode": {
    "name": "ipython",
    "version": 3
   },
   "file_extension": ".py",
   "mimetype": "text/x-python",
   "name": "python",
   "nbconvert_exporter": "python",
   "pygments_lexer": "ipython3",
   "version": "3.7.3"
  }
 },
 "nbformat": 4,
 "nbformat_minor": 2
}
