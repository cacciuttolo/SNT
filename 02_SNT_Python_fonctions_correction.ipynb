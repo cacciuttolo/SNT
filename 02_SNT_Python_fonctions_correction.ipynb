{
 "cells": [
  {
   "cell_type": "markdown",
   "metadata": {},
   "source": [
    "## PYTHON ![icone python](https://upload.wikimedia.org/wikipedia/commons/0/0a/Python.svg)"
   ]
  },
  {
   "cell_type": "markdown",
   "metadata": {},
   "source": [
    "#  Comment travailler avec un notebook Jupiter (ce document) ?\n",
    "Un notebook jupyter est composé de cellules : \n",
    "- certaines sont des cellules de texte (comme celle-ci, par exemple)\n",
    "- d'autres sont des cellules de code, où on écrit du langage python : on les reconnaît car il est écrit *Entrée [ ]* devant.\n",
    "\n",
    "\n",
    "On peut écrire dans chacune d'elle. Pour valider une cellule (**indispensable pour exécuter un programme python**), on peut soit utiliser le raccourci clavier Ctrl+Entrée, soit cliquer sur le bouton Exécuter. On peut exécuter plusieurs fois la cellule, si on a corrigé ou modifié un programme par exemple.\n",
    "\n",
    "\n",
    "**remarque :** dans un programme python, on peut utiliser le symbole # devant une ligne : cette ligne devient alors un commentaire, elle n'est pas exécutée par Python. \n",
    "\n",
    "\n",
    "Une fois le travail terminé, vous allez le télécharger pour ensuite l'envoyer au professeur.\n",
    "Pour cela, allez dans Fichier, Télécharger au format, puis HTML (.html)\n",
    "\n",
    "Le document téléchargé sera lisible par un navigateur internet, mais ne pourra pas être modifié."
   ]
  },
  {
   "cell_type": "markdown",
   "metadata": {},
   "source": [
    "#  Notion de fonction\n",
    "En python, on utilise souvent la notion de fonction qui permet de concevoir ses propres outils de calcul afin de ne pas répéter plusieurs fois les mêmes séquences de calcul.\n",
    "Lorsqu'on doit fabriquer un programme complexe pour répondre à une question, on va \"découper\" la complexité du problème en tâches simples : des fonctions.\n",
    "\n",
    "Nous allons voir aujourd'hui comment créer des fonctions simples.\n",
    "\n",
    "Par exemple, je veux calculer la moyenne de mes élèves qui ont fait quatre devoirs : les devoir n1 et n2 sont coefficient 1, et les devoirs n3 et n4 sont coefficent 3.\n",
    "Le calcul à faire est donc $m=\\frac{n1+n2+3\\times{n3}+3\\times{n4}}{1+1+3+3}=\\frac{n1+n2+3\\times{n3}+3\\times{n4}}{8}$\n",
    "On va donc construire la fonction appelée moyenne\n",
    "\n",
    "Une fonction est toujours composée des éléments suivants : \n",
    "- de l'instruction *def*  qui permet d'indiquer que l'on définit une fonction.\n",
    "- du nom de la fonction, ici *moyenne*\n",
    "- des variables utilisées entre parenthèses, ici *(n1,n2,n3,n4)*. S'il n'y a pas de variable, on écrit quand même les parenthèses vides *()*\n",
    "- de deux points après les parenthèses *:* indiquant que l'on va commencer à écrire la définition\n",
    "- du corps de la fonction qui est **indenté** : il est décalé horizontalement\n",
    "- de l'instruction *return* qui permet de \"renvoyer\" le résultat (parfois non obligatoire, mais pas cette année).\n",
    "\n",
    "Voici ce que cela donne dans notre cas : "
   ]
  },
  {
   "cell_type": "code",
   "execution_count": 1,
   "metadata": {},
   "outputs": [
    {
     "data": {
      "text/plain": [
       "10.5"
      ]
     },
     "execution_count": 1,
     "metadata": {},
     "output_type": "execute_result"
    }
   ],
   "source": [
    "def moyenne(n1,n2,n3,n4):        # ceci est donc la ligne qui définit la fonction, avec les paramètres\n",
    "    return ((n1+n2+3*n3+3*n4)/8) # voici ce que fait et retourne la fonction\n",
    "moyenne(11,13,9,11)              # on n'est plus dans la fonction (pas d'indentation), ici on exécute celle-ci.\n",
    "\n",
    "\n",
    "# Valide cette cellule pour exécuter le programme : \n",
    "# clique dans la cellule, puis\n",
    "# Ctrl+Entrée, ou clic sur \"Exécuter\""
   ]
  },
  {
   "cell_type": "markdown",
   "metadata": {},
   "source": [
    "Cécilia a eu 7, 11, 12 et 10. Quelle est sa moyenne ?"
   ]
  },
  {
   "cell_type": "code",
   "execution_count": 2,
   "metadata": {},
   "outputs": [
    {
     "data": {
      "text/plain": [
       "10.5"
      ]
     },
     "execution_count": 2,
     "metadata": {},
     "output_type": "execute_result"
    }
   ],
   "source": [
    "#Écris ce que tu veux calculer avec python ici :\n",
    "moyenne(7,11,12,10)"
   ]
  },
  {
   "cell_type": "markdown",
   "metadata": {},
   "source": [
    "Bilal a lui raté son premier devoir : 3 puis il a eu 9;12;12. Quelle est sa moyenne ?"
   ]
  },
  {
   "cell_type": "code",
   "execution_count": 3,
   "metadata": {},
   "outputs": [
    {
     "data": {
      "text/plain": [
       "10.5"
      ]
     },
     "execution_count": 3,
     "metadata": {},
     "output_type": "execute_result"
    }
   ],
   "source": [
    "#Écris ce que tu veux calculer avec python ici :\n",
    "moyenne(3,9,12,12)"
   ]
  },
  {
   "cell_type": "markdown",
   "metadata": {},
   "source": [
    "Mathys a eu 14;9;12 et ... il ne se rappelle plus. Mais sa moyenne est 11.5. Quelle est sa quatrième note ?\n",
    "\n",
    "Trouve la réponse en essayant plusieurs valeurs."
   ]
  },
  {
   "cell_type": "code",
   "execution_count": 4,
   "metadata": {},
   "outputs": [
    {
     "data": {
      "text/plain": [
       "11.5"
      ]
     },
     "execution_count": 4,
     "metadata": {},
     "output_type": "execute_result"
    }
   ],
   "source": [
    "#Écris ce que tu veux calculer avec python ici :\n",
    "moyenne(14,9,12,11)"
   ]
  },
  {
   "cell_type": "markdown",
   "metadata": {},
   "source": [
    "# exercice 1.\n",
    "Le prof d'histoire veut faire de même. Il a eu 5 notes coefficient 1.\n",
    "Écris la fonction MoyenneHistoire qui calcule la moyenne des notes n1, n2, n3, n4 et n5. "
   ]
  },
  {
   "cell_type": "code",
   "execution_count": 6,
   "metadata": {},
   "outputs": [],
   "source": [
    "# exercice 1\n",
    "def MoyenneHistoire(n1,n2,n3,n4,n5):\n",
    "    return((n1+n2+n3+n4+n5)/5)"
   ]
  },
  {
   "cell_type": "markdown",
   "metadata": {},
   "source": [
    "Quelle est la moyenne en histoire de Cécilia qui a eu 12;8;11;5;9 ?"
   ]
  },
  {
   "cell_type": "code",
   "execution_count": 7,
   "metadata": {},
   "outputs": [
    {
     "data": {
      "text/plain": [
       "9.0"
      ]
     },
     "execution_count": 7,
     "metadata": {},
     "output_type": "execute_result"
    }
   ],
   "source": [
    "#Écris ce que tu veux calculer avec python ici :\n",
    "MoyenneHistoire(12,8,11,5,9)"
   ]
  },
  {
   "cell_type": "markdown",
   "metadata": {},
   "source": [
    "Bilal a obtenu 11;14;15;3;5. A-t-il une meilleure moyenne en histoire qu'en math ?"
   ]
  },
  {
   "cell_type": "code",
   "execution_count": 8,
   "metadata": {},
   "outputs": [
    {
     "data": {
      "text/plain": [
       "9.6"
      ]
     },
     "execution_count": 8,
     "metadata": {},
     "output_type": "execute_result"
    }
   ],
   "source": [
    "#Écris ce que tu veux calculer avec python ici :\n",
    "MoyenneHistoire(11,14,15,5,3)"
   ]
  },
  {
   "cell_type": "markdown",
   "metadata": {},
   "source": [
    "# exercice 2.\n",
    "On consière la fonction mathématique définie pour tout réel strictement positif $x$ par $f(x)=\\displaystyle\\frac{2x+1}{x}$. Construis la fonction Python appelée *fonc(x)* qui calcule l'image du nombre *x*. "
   ]
  },
  {
   "cell_type": "code",
   "execution_count": 9,
   "metadata": {},
   "outputs": [],
   "source": [
    "# exercice 2 \n",
    "def fonc(x):\n",
    "    return((2*x+1)/x)"
   ]
  },
  {
   "cell_type": "markdown",
   "metadata": {},
   "source": [
    "Quelle est l'image de 10 ?"
   ]
  },
  {
   "cell_type": "code",
   "execution_count": 10,
   "metadata": {},
   "outputs": [
    {
     "data": {
      "text/plain": [
       "2.1"
      ]
     },
     "execution_count": 10,
     "metadata": {},
     "output_type": "execute_result"
    }
   ],
   "source": [
    "#Écris ce que tu veux calculer avec python ici :\n",
    "fonc(10)"
   ]
  },
  {
   "cell_type": "markdown",
   "metadata": {},
   "source": [
    "Quelle est l'image de -1 ?"
   ]
  },
  {
   "cell_type": "code",
   "execution_count": 11,
   "metadata": {},
   "outputs": [
    {
     "data": {
      "text/plain": [
       "1.0"
      ]
     },
     "execution_count": 11,
     "metadata": {},
     "output_type": "execute_result"
    }
   ],
   "source": [
    "#Écris ce que tu veux calculer avec python ici :\n",
    "fonc(-1)"
   ]
  },
  {
   "cell_type": "markdown",
   "metadata": {},
   "source": [
    "# exercice 3.\n",
    "Dans un magasin de pièces détachées, le vendeur possède la liste des prix hors taxes des pièces. On sait que la TVA s'élève à 19,6%.\n",
    "Construis la fonction CalculPrixTTC qui a pour paramètre PrixHT et qui calcule le prix toutes taxes comprises de la pièce.\n",
    "\n",
    "**Rappel** : augmenter de 19,6% revient à multpilier par $\\displaystyle 1+\\frac{19,6}{100}=1,196$."
   ]
  },
  {
   "cell_type": "code",
   "execution_count": 14,
   "metadata": {},
   "outputs": [],
   "source": [
    "# exercice 3 \n",
    "def CalculPrixTTC(PrixHT):\n",
    "    return(PrixHT*1.196)"
   ]
  },
  {
   "cell_type": "markdown",
   "metadata": {},
   "source": [
    "Quelle est le prix TTC d'une pièce dont le prix HT était 150€ ?"
   ]
  },
  {
   "cell_type": "code",
   "execution_count": 15,
   "metadata": {},
   "outputs": [
    {
     "data": {
      "text/plain": [
       "179.4"
      ]
     },
     "execution_count": 15,
     "metadata": {},
     "output_type": "execute_result"
    }
   ],
   "source": [
    "#Écris ce que tu veux calculer avec python ici :\n",
    "CalculPrixTTC(150)"
   ]
  },
  {
   "cell_type": "markdown",
   "metadata": {},
   "source": [
    "Quelle est le prix TTC d'une pièce dont le prix HT était 117€ ?"
   ]
  },
  {
   "cell_type": "code",
   "execution_count": 16,
   "metadata": {},
   "outputs": [
    {
     "data": {
      "text/plain": [
       "139.932"
      ]
     },
     "execution_count": 16,
     "metadata": {},
     "output_type": "execute_result"
    }
   ],
   "source": [
    "#Écris ce que tu veux calculer avec python ici :\n",
    "CalculPrixTTC(117)"
   ]
  },
  {
   "cell_type": "markdown",
   "metadata": {},
   "source": [
    "# exercice 4 : poids d'une image.\n",
    "Le poids d'une image non compressée, exprimé en bits, dépend de sa *définition*, c'est à dire du nombre de pixels qui la composent,  mais aussi de la \"profondeur\" de couleurs : c'est le nombre de couleurs que l'on peut exprimer pour chaque pixel. dans la pratique, un pixel a une profondeur de 1 bit (noir ou blanc, deux nuances), 8 bits (256 couleurs), 16 bits (environ 65 000 nuances), 24 bits (environ 16 millions). *Voir le livre de SNT page 110*\n",
    "\n",
    "Le poids d'une image est donc égal au produit du nombre de pixels en longueur par le nombre de pixels en hauteur par la profondeur.\n",
    "\n",
    "Fabrique une fonction Poids(PixLongueur,PixLargeur,profondeur) qui renvoie le poids de l'image en bits.\n",
    "\n"
   ]
  },
  {
   "cell_type": "code",
   "execution_count": 17,
   "metadata": {},
   "outputs": [],
   "source": [
    "# exercice 4 \n",
    "def Poids(PixLongueur,PixLargeur,profondeur):\n",
    "    return(PixLongueur*PixLargeur*profondeur)"
   ]
  },
  {
   "cell_type": "markdown",
   "metadata": {},
   "source": [
    "Quel est le poids d'une image de dimensions 3024 par 4536, avec une profondeur de 16 bits ?"
   ]
  },
  {
   "cell_type": "code",
   "execution_count": 18,
   "metadata": {},
   "outputs": [
    {
     "data": {
      "text/plain": [
       "219469824"
      ]
     },
     "execution_count": 18,
     "metadata": {},
     "output_type": "execute_result"
    }
   ],
   "source": [
    "#Écris ce que tu veux calculer avec python ici :\n",
    "Poids(3024,4536,16)"
   ]
  },
  {
   "cell_type": "markdown",
   "metadata": {},
   "source": [
    "Quel est le poids d'une image de même définition mais avec une profondeur de 24 bits ?"
   ]
  },
  {
   "cell_type": "code",
   "execution_count": 19,
   "metadata": {},
   "outputs": [
    {
     "data": {
      "text/plain": [
       "329204736"
      ]
     },
     "execution_count": 19,
     "metadata": {},
     "output_type": "execute_result"
    }
   ],
   "source": [
    "#Écris ce que tu veux calculer avec python ici :\n",
    "Poids(3024,4536,24)"
   ]
  },
  {
   "cell_type": "markdown",
   "metadata": {},
   "source": [
    "# exercice 5 : conversion\n",
    "**Rappel** : l'abréviation de bit est b, celle d'octet est o.\n",
    "- 8 b = 1 o\n",
    "- 1 Kio = 1024 o\n",
    "- 1 Mio = 1024 Kio\n",
    "\n",
    "Fabrique une fonction conversion(Tailleb) qui a pour entrée la taille d'un fichier en bits et donne en retour la taille du fichier en Mio."
   ]
  },
  {
   "cell_type": "code",
   "execution_count": 20,
   "metadata": {},
   "outputs": [],
   "source": [
    "# exercice 5\n",
    "def conversion(Tailleb):\n",
    "    return(Tailleb/1024/1024)\n"
   ]
  },
  {
   "cell_type": "markdown",
   "metadata": {},
   "source": [
    "Quelle est la taille en Mio d'un fichier pesant 234 123 111 265 bits ?"
   ]
  },
  {
   "cell_type": "code",
   "execution_count": 22,
   "metadata": {},
   "outputs": [
    {
     "data": {
      "text/plain": [
       "223277.19809055328"
      ]
     },
     "execution_count": 22,
     "metadata": {},
     "output_type": "execute_result"
    }
   ],
   "source": [
    "#Écris ce que tu veux calculer avec python ici :\n",
    "conversion(234123111265)"
   ]
  },
  {
   "cell_type": "markdown",
   "metadata": {},
   "source": [
    "# exercice 6 : utilisation des fonctions précédentes.\n",
    "Écris la fonction PoidsMio(PixLongueur,PixLargeur,profondeur) qui renvoie le poids de l'image exprimé en Mio.\n",
    "\n",
    "**Cette fonction doit utiliser les deux fonctions précédentes Poids(PixLongueur,PixLargeur,profondeur) et conversion(Taillebits)**"
   ]
  },
  {
   "cell_type": "code",
   "execution_count": 23,
   "metadata": {},
   "outputs": [],
   "source": [
    "# exercice 6\n",
    "def PoidsMio(PixLongueur,PixLargeur,profondeur):\n",
    "    return(conversion(Poids(PixLongueur,PixLargeur,profondeur)))"
   ]
  },
  {
   "cell_type": "markdown",
   "metadata": {},
   "source": [
    "Quel est le poids en Mio d'une image de dimensions 3024 par 4536, avec une profondeur de 16 bits ?"
   ]
  },
  {
   "cell_type": "code",
   "execution_count": 24,
   "metadata": {},
   "outputs": [
    {
     "data": {
      "text/plain": [
       "209.302734375"
      ]
     },
     "execution_count": 24,
     "metadata": {},
     "output_type": "execute_result"
    }
   ],
   "source": [
    "#Écris ce que tu veux calculer avec python ici :\n",
    "PoidsMio(3024,4536,16)"
   ]
  },
  {
   "cell_type": "markdown",
   "metadata": {},
   "source": [
    "Quel est le poids en mio d'une image de même définition mais avec une profondeur de 24 bits ?"
   ]
  },
  {
   "cell_type": "code",
   "execution_count": 25,
   "metadata": {},
   "outputs": [
    {
     "data": {
      "text/plain": [
       "313.9541015625"
      ]
     },
     "execution_count": 25,
     "metadata": {},
     "output_type": "execute_result"
    }
   ],
   "source": [
    "#Écris ce que tu veux calculer avec python ici :\n",
    "PoidsMio(3024,4536,24)"
   ]
  }
 ],
 "metadata": {
  "kernelspec": {
   "display_name": "Python 3",
   "language": "python",
   "name": "python3"
  },
  "language_info": {
   "codemirror_mode": {
    "name": "ipython",
    "version": 3
   },
   "file_extension": ".py",
   "mimetype": "text/x-python",
   "name": "python",
   "nbconvert_exporter": "python",
   "pygments_lexer": "ipython3",
   "version": "3.7.3"
  }
 },
 "nbformat": 4,
 "nbformat_minor": 2
}
