{
 "cells": [
  {
   "cell_type": "markdown",
   "metadata": {},
   "source": [
    "## PYTHON RAPPELS : BOUCLES ![icone python](https://upload.wikimedia.org/wikipedia/commons/0/0a/Python.svg)"
   ]
  },
  {
   "cell_type": "markdown",
   "metadata": {},
   "source": [
    "#  Comment travailler avec un notebook Jupiter (ce document) ?\n",
    "Un notebook jupyter est composé de cellules : \n",
    "- certaines sont des cellules de texte (comme celle-ci, par exemple)\n",
    "- d'autres sont des cellules de code, où on écrit du langage python : on les reconnaît car il est écrit *Entrée [ ]* devant.\n",
    "\n",
    "\n",
    "On peut écrire dans chacune d'elle. Pour valider une cellule (**indispensable pour exécuter un programme python**), on peut soit utiliser le raccourci clavier Ctrl+Entrée, soit cliquer sur le bouton Exécuter. On peut exécuter plusieurs fois la cellule, si on a corrigé ou modifié un programme par exemple.\n",
    "\n",
    "\n",
    "**remarque :** dans un programme python, on peut utiliser le symbole # devant une ligne : cette ligne devient alors un commentaire, elle n'est pas exécutée par Python. \n",
    "\n",
    "\n",
    "Une fois le travail terminé, vous allez le télécharger pour ensuite l'envoyer au professeur.\n",
    "Pour cela, allez dans Fichier, Télécharger au format, puis HTML (.html)\n",
    "\n",
    "Le document téléchargé sera lisible par un navigateur internet, mais ne pourra pas être modifié."
   ]
  },
  {
   "cell_type": "markdown",
   "metadata": {},
   "source": [
    "# Les boucles\n",
    "Lorsqu’on veut répéter plusieurs fois une action similaire, on utilise une boucle.\n",
    "Par exemple, pour écrire les résultats d'une table de multiplication, pour calculer les termes d'une suite, …\n",
    "\n",
    "## La boucle pour / for\n",
    "Lorsqu'on sait exactement combien de fois on doit répéter l'action, on utilise une boucle bornée, à l'aide de l'instruction for."
   ]
  },
  {
   "cell_type": "code",
   "execution_count": null,
   "metadata": {},
   "outputs": [],
   "source": [
    "for i in range (10):\n",
    "    print(i)"
   ]
  },
  {
   "cell_type": "markdown",
   "metadata": {},
   "source": [
    "Dans ce programme, i est une variable qui va à chaque \"tour\" dans la boucle changer de valeur : in range(10) signifie que i va commencer par 0 et prendre toutes les valeurs entières jusqu'à 9.\n",
    "\n",
    "On n'est pas obligé de commencer à i=0, \n",
    "par exemple :"
   ]
  },
  {
   "cell_type": "code",
   "execution_count": null,
   "metadata": {},
   "outputs": [],
   "source": [
    "for i in range (3,10):\n",
    "    print(i)"
   ]
  },
  {
   "cell_type": "markdown",
   "metadata": {},
   "source": [
    "**exemple de boucle for.**\n",
    "\n",
    "Je veux créer une fonction qui affiche la table de multiplication de l'entier n de nx1 à nx10 :"
   ]
  },
  {
   "cell_type": "code",
   "execution_count": null,
   "metadata": {},
   "outputs": [],
   "source": [
    "def table(n):\n",
    "    for i in range (1,11):\n",
    "        print(n*i)\n",
    "table (7)"
   ]
  },
  {
   "cell_type": "markdown",
   "metadata": {},
   "source": [
    "On peut obtenir un affichage plus clair : "
   ]
  },
  {
   "cell_type": "code",
   "execution_count": null,
   "metadata": {},
   "outputs": [],
   "source": [
    "def table(n):\n",
    "    for i in range (1,11):\n",
    "        print(n,\"x\",i,\"=\",n*i)\n",
    "table(8)"
   ]
  },
  {
   "cell_type": "markdown",
   "metadata": {},
   "source": [
    "## Boucle tant que / While\n",
    "La boucle \"tant que\" permet de faire exactement ce que fait une boucle \"pour\", mais elle permet aussi de construire une boucle lorsqu'on ne sait pas au départ combien de \"passages\" seront nécessaires.\n",
    "Cette boucle est donc soumise à une condition : tant que la condition est vérifiée, on fait…\n",
    "Dans la boucle tant que, c'est le programmeur qui choisit la façon dont évolue la valeur de i.\n",
    "\n",
    "Le programme suivant affiche la même chose que le premier programme de la boucle \"for\""
   ]
  },
  {
   "cell_type": "code",
   "execution_count": null,
   "metadata": {},
   "outputs": [],
   "source": [
    "i=0              #on initialise la valeur de i (ici pour commencer à 0)\n",
    "while i<10:     #voici la condition : on répète tant que i est strictement inférieur à 10\n",
    "        print(i) #on affiche la valeur de i\n",
    "        i=i+1    #on n'oublie pas de faire varier la valeur de i : i faisait 0, il va faire 1, puis 2, ..."
   ]
  },
  {
   "cell_type": "markdown",
   "metadata": {},
   "source": [
    "La dernière ligne est essentielle : sans elle, i sera toujours égal à 0, et le programme va afficher une suite de \"0\", sans s'arrêter : en effet i=0 sera toujours inférieur à 10, la condition sera toujours vérifiée et la boucle ne s'arrêtera pas.\n",
    "\n",
    "**exemple de boucle tant que.**\n",
    "Je veux créer une fonction qui affiche la table de multiplication de l'entier n jusqu à ce que le résultat soit égal à 100 : je ne sais pas combien de fois je fais faire \"tourner\" la boucle…"
   ]
  },
  {
   "cell_type": "code",
   "execution_count": null,
   "metadata": {},
   "outputs": [],
   "source": [
    "def Table100(n):\n",
    "    i=1\n",
    "    produit=n*i\n",
    "    while produit<100:\n",
    "        print(produit)\n",
    "        i=i+1\n",
    "        produit=n*i\n",
    "\n",
    "Table100(7)"
   ]
  },
  {
   "cell_type": "markdown",
   "metadata": {},
   "source": [
    "# Exercices\n",
    "\n",
    "## exercice 1. - exercice idiot\n",
    "Afficher (avec l'instruction print) 17 fois la phrase : *Python, c'est trop bien* en écrivant une seule fois cette phrase dans le programme.\n",
    "\n",
    "*remarque :* ici on connaît le nombre de répétitions, on va utiliser la boucle \"for\".  \n",
    "\n"
   ]
  },
  {
   "cell_type": "code",
   "execution_count": null,
   "metadata": {},
   "outputs": [],
   "source": []
  },
  {
   "cell_type": "markdown",
   "metadata": {},
   "source": [
    "## exercice 2.\n",
    "Construis une fonction multiples7(k) qui affiche tous les multpiles de 7 inférieurs ou égaux à k.\n",
    "\n",
    "Par exemple, multiples7(30) doit afficher :<br> \n",
    "7<br>14<br>21<br>28\n",
    "\n",
    "*remarque* : ici, on ne sait pas combien de fois on devra faire fonctionner la boucle, on va utiliser une boucle \"while\""
   ]
  },
  {
   "cell_type": "code",
   "execution_count": null,
   "metadata": {},
   "outputs": [],
   "source": []
  },
  {
   "cell_type": "markdown",
   "metadata": {},
   "source": [
    "## exercice 3. fonction – boucle for\n",
    "On considère la fonction $f(x)=3x^2+2x-1$ \n",
    "\n",
    "**1.** Écris la fonction fonc(x) qui retourne l'image de x par $f$.\n",
    "Par exemple, fonc(2) devrait renvoyer $f(2)$, c'est à dire 15."
   ]
  },
  {
   "cell_type": "code",
   "execution_count": null,
   "metadata": {},
   "outputs": [],
   "source": []
  },
  {
   "cell_type": "markdown",
   "metadata": {},
   "source": [
    "**2.** On considère deux entiers positifs Xmin et Xmax. \n",
    "\n",
    "Écris une fonction Table(Xmin,Xmax) qui affiche les images de $f$ pour toutes les valeurs entières entre Xmin et Xmax.\n",
    "\n",
    "*indication* : pour calculer $x^2$, on écrit en Python $x**2$ ; pour calculer 2x, il faut écrire $2*x$"
   ]
  },
  {
   "cell_type": "code",
   "execution_count": null,
   "metadata": {},
   "outputs": [],
   "source": []
  },
  {
   "cell_type": "markdown",
   "metadata": {},
   "source": [
    "## exercice 4. fonction - boucle while\n",
    "$f$ est la même fonction que dans l'exercice 9.\n",
    "Cette fois, Xmin, Xmax et Pas sont trois nombres réels. Écris une fonction Table(Xmin,Xmax,Pas) qui affiche les images de  pour x allant de Xmin à Xmax avec un pas égal à Pas.\n",
    "Par exemple, Table(2.5,5,0.5) doit afficher $f(2,5),f(3),f(3,5),f(4),f(4,5)$  et $f(5)$  "
   ]
  },
  {
   "cell_type": "code",
   "execution_count": null,
   "metadata": {},
   "outputs": [],
   "source": []
  },
  {
   "cell_type": "markdown",
   "metadata": {},
   "source": [
    "# Défi\n",
    "## défi n°1 \n",
    "Pour ses 18 ans, les grands-parents de Jean-Bob lui ont donné 2000€.<br>\n",
    "Jean-Bob a trouvé un placement rémunéré à 5% et place cet argent jusqu'à obtenir 7000€.<br> \n",
    "Construis un programme permettant de savoir combien d'année il va devoir attendre.\n",
    "\n",
    "**indications** : *-Un placement \"rémunéré à 5% signifie que chaque année, la somme augment de 5%. Et nous savons qu'augmenter un nombre de 5% revient à le multiplier par 1+5/100*"
   ]
  },
  {
   "cell_type": "code",
   "execution_count": null,
   "metadata": {},
   "outputs": [],
   "source": []
  },
  {
   "cell_type": "markdown",
   "metadata": {},
   "source": [
    "## défi 2. Je jeu \"devine le nombre mystère\"\n",
    "Le but du jeu est de le suivant : l'ordinateur choisit un nombre entier au hasard entre 1 et n. Le joueur fait une proposition, l'ordinateur réponds \"Le nombre mystère est plus grand\", \"Le nombre mystère est plus petit\", ou \"Bravo, vous avez trouvé !\".\n",
    "\n",
    "ce jeu va être créé sous la forme d'une fonction jeu(n).\n",
    "\n",
    "**quelques indications** : \n",
    "\n",
    "*-pour choisir au hasard un nombre entier entre 1 et n, on utilise l'instruction *randint(1,n)*. Il faut auparavant importer la fonction randint de la bibliothèque random en écrivant au début du programme *form random import randint*\n",
    "\n",
    "*-Pour que Python demande un nombre, on écrit *nombre=int(input(\"Entrez un nombre\"))*\n",
    "\n",
    "*-On utilise une boucle \"while\" puisqu'on doit répéter le jeu tant qu'on n'a pas trouvé le nombre_mystere. Pour cela, on utilise une variable appelée booléen : c'est une variable qui ne peut prendre que deux valeurs True ou False.*\n",
    "\n",
    "Complète le programme suivant:\n"
   ]
  },
  {
   "cell_type": "code",
   "execution_count": null,
   "metadata": {},
   "outputs": [],
   "source": [
    "from random import randint\n",
    "def jeu(n):\n",
    "    nombre_mystere=randint...\n",
    "    gagne=False\n",
    "    while gagne==...\n",
    "        nombre=int(input(\"Entrez un nombre : \"))\n",
    "        if nombre<nombre_mystere:\n",
    "            print(...)\n",
    "        elif nombre>nombre_mystere:\n",
    "            ...\n",
    "        else:\n",
    "            ...\n",
    "            ...\n",
    "jeu(100)"
   ]
  },
  {
   "cell_type": "code",
   "execution_count": null,
   "metadata": {},
   "outputs": [],
   "source": []
  },
  {
   "cell_type": "markdown",
   "metadata": {},
   "source": [
    "## défi 3\n",
    "Même programme que le récédent, mais à la fin tu dois afficher le nombre d'essais...\n",
    "\n"
   ]
  },
  {
   "cell_type": "code",
   "execution_count": null,
   "metadata": {},
   "outputs": [],
   "source": []
  }
 ],
 "metadata": {
  "kernelspec": {
   "display_name": "Python 3",
   "language": "python",
   "name": "python3"
  },
  "language_info": {
   "codemirror_mode": {
    "name": "ipython",
    "version": 3
   },
   "file_extension": ".py",
   "mimetype": "text/x-python",
   "name": "python",
   "nbconvert_exporter": "python",
   "pygments_lexer": "ipython3",
   "version": "3.7.3"
  }
 },
 "nbformat": 4,
 "nbformat_minor": 2
}
